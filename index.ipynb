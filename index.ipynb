{
 "cells": [
  {
   "attachments": {},
   "cell_type": "markdown",
   "metadata": {},
   "source": [
    "# Welcome to the OpenKIM tutorial at MACH 2023\n",
    "\n",
    "Examples will appear here before the tutorial"
   ]
  },
  {
   "attachments": {},
   "cell_type": "markdown",
   "metadata": {},
   "source": [
    "# Using OpenKIM models in your simulations\n",
    "\n",
    "## LAMMPS\n",
    "\n",
    "Run the cell below or view the file \"in-std.lammps\" to see a simple example of a standard LAMMPS script not involving OpenKIM"
   ]
  },
  {
   "cell_type": "code",
   "execution_count": null,
   "metadata": {},
   "outputs": [],
   "source": [
    "!cat in-std.lammps"
   ]
  },
  {
   "attachments": {},
   "cell_type": "markdown",
   "metadata": {},
   "source": [
    "Run the computation:"
   ]
  },
  {
   "cell_type": "code",
   "execution_count": 10,
   "metadata": {},
   "outputs": [
    {
     "name": "stdout",
     "output_type": "stream",
     "text": [
      "LAMMPS (15 Sep 2022)\n",
      "OMP_NUM_THREADS environment is not set. Defaulting to 1 thread. (src/comm.cpp:98)\n",
      "  using 1 OpenMP thread(s) per MPI task\n",
      "Lattice spacing in x,y,z = 4.05 4.05 4.05\n",
      "Created orthogonal box = (0 0 0) to (4.05 4.05 4.05)\n",
      "  1 by 1 by 1 MPI processor grid\n",
      "Created 4 atoms\n",
      "  using lattice units in orthogonal box = (0 0 0) to (4.05 4.05 4.05)\n",
      "  create_atoms CPU = 0.001 seconds\n",
      "WARNING: No fixes with time integration, atoms won't move (src/verlet.cpp:60)\n",
      "Neighbor list info ...\n",
      "  update: every = 1 steps, delay = 10 steps, check = yes\n",
      "  max neighbors/atom: 2000, page size: 100000\n",
      "  master list distance cutoff = 7.5580544\n",
      "  ghost atom cutoff = 7.5580544\n",
      "  binsize = 3.7790272, bins = 2 2 2\n",
      "  1 neighbor lists, perpetual/occasional/extra = 1 0 0\n",
      "  (1) pair eam/alloy, perpetual\n",
      "      attributes: half, newton on\n",
      "      pair build: half/bin/atomonly/newton\n",
      "      stencil: half/bin/3d\n",
      "      bin: standard\n",
      "Setting up Verlet run ...\n",
      "  Unit style    : metal\n",
      "  Current step  : 0\n",
      "  Time step     : 0.001\n",
      "Per MPI rank memory allocation (min/avg/max) = 3.209 | 3.209 | 3.209 Mbytes\n",
      "   Step          Temp          E_pair         E_mol          TotEng         Press     \n",
      "         0   0             -13.437095      0             -13.437095     -10497.041    \n",
      "Loop time of 1.064e-06 on 1 procs for 0 steps with 4 atoms\n",
      "\n",
      "94.0% CPU use with 1 MPI tasks x 1 OpenMP threads\n",
      "\n",
      "MPI task timing breakdown:\n",
      "Section |  min time  |  avg time  |  max time  |%varavg| %total\n",
      "---------------------------------------------------------------\n",
      "Pair    | 0          | 0          | 0          |   0.0 |  0.00\n",
      "Neigh   | 0          | 0          | 0          |   0.0 |  0.00\n",
      "Comm    | 0          | 0          | 0          |   0.0 |  0.00\n",
      "Output  | 0          | 0          | 0          |   0.0 |  0.00\n",
      "Modify  | 0          | 0          | 0          |   0.0 |  0.00\n",
      "Other   |            | 1.064e-06  |            |       |100.00\n",
      "\n",
      "Nlocal:              4 ave           4 max           4 min\n",
      "Histogram: 1 0 0 0 0 0 0 0 0 0\n",
      "Nghost:            360 ave         360 max         360 min\n",
      "Histogram: 1 0 0 0 0 0 0 0 0 0\n",
      "Neighs:            172 ave         172 max         172 min\n",
      "Histogram: 1 0 0 0 0 0 0 0 0 0\n",
      "\n",
      "Total # of neighbors = 172\n",
      "Ave neighs/atom = 43\n",
      "Neighbor list builds = 0\n",
      "Dangerous builds = 0\n",
      "Total wall time: 0:00:00\n"
     ]
    }
   ],
   "source": [
    "!lmp<in-std.lammps"
   ]
  },
  {
   "attachments": {},
   "cell_type": "markdown",
   "metadata": {},
   "source": [
    "Now let's look at the same simulation set up with OpenKIM"
   ]
  },
  {
   "cell_type": "code",
   "execution_count": null,
   "metadata": {},
   "outputs": [],
   "source": [
    "!cat in-kim.lammps"
   ]
  },
  {
   "attachments": {},
   "cell_type": "markdown",
   "metadata": {},
   "source": [
    "Before running, we need to install the model EAM_Dynamo_ErcolessiAdams_1994_Al__MO_123629422045_005 from OpenKIM if it has not been already. The following command will automatically download, build and install the model if the KIM API is installed:"
   ]
  },
  {
   "cell_type": "code",
   "execution_count": null,
   "metadata": {},
   "outputs": [],
   "source": [
    "from hull_functions import get_2d_lower_hull\n",
    "import matplotlib.pyplot as plt\n",
    "\n",
    "species=[\"Al\",\"Ti\"]\n",
    "\n",
    "\n",
    "model=\"EAM_Dynamo_ZopeMishin_2003_TiAl__MO_117656786760_005\"\n",
    "\"\"\"\n",
    "model=\"EAM_Dynamo_FarkasJones_1996_NbTiAl__MO_042691367780_000\"\n",
    "model=\"MEAM_LAMMPS_AlmyrasSangiovanniSarakinos_2019_NAlTi__MO_958395190627_001\"\n",
    "model=\"MEAM_LAMMPS_KimKimJung_2016_AlTi__MO_618133763375_001\"\n",
    "model=\"MEAM_LAMMPS_KimKimJung_2017_NiAlTi__MO_478967255435_001\"\n",
    "model=\"MEAM_LAMMPS_SunRamachandranWick_2018_TiAl__MO_022920256108_001\"\n",
    "model=\"Tersoff_LAMMPS_PlummerRathodSrivastava_2021_TiAlC__MO_992900971352_000\"\n",
    "\"\"\"\n",
    "\n",
    "assert len(species)==2\n",
    "\n",
    "rd_form_engy_array,rd_prototype_labels,rd_lower_hull_vertices=get_2d_lower_hull(species)\n",
    "mo_form_engy_array,mo_prototype_labels,mo_lower_hull_vertices=get_2d_lower_hull(species,model)\n",
    "\n",
    "plt.rcParams['font.size']=16\n",
    "fig, ax = plt.subplots()\n",
    "ax.set_xlim(0.,1.)\n",
    "ax.set_ylim(ymin=1.2*min(min(rd_form_engy_array[:,1]),min(mo_form_engy_array[:,1])),ymax=0.)\n",
    "ax.set_xlabel(\"Mole fraction of %s\"%species[1])\n",
    "ax.set_ylabel(\"$H_f$ (eV/atom)\")\n",
    "ax.set_title(model+\"\\n\")\n",
    "\n",
    "ax.plot(mo_form_engy_array[mo_lower_hull_vertices,0],mo_form_engy_array[mo_lower_hull_vertices,1],\"k-o\")\n",
    "ax.plot(mo_form_engy_array[mo_lower_hull_vertices,0],mo_form_engy_array[mo_lower_hull_vertices,1],\"k-o\")\n",
    "ax.plot(rd_form_engy_array[rd_lower_hull_vertices,0],rd_form_engy_array[rd_lower_hull_vertices,1],\"r--o\")"
   ]
  },
  {
   "attachments": {},
   "cell_type": "markdown",
   "metadata": {},
   "source": []
  }
 ],
 "metadata": {
  "kernelspec": {
   "display_name": "base",
   "language": "python",
   "name": "python3"
  },
  "language_info": {
   "codemirror_mode": {
    "name": "ipython",
    "version": 3
   },
   "file_extension": ".py",
   "mimetype": "text/x-python",
   "name": "python",
   "nbconvert_exporter": "python",
   "pygments_lexer": "ipython3",
   "version": "3.11.2"
  },
  "orig_nbformat": 4
 },
 "nbformat": 4,
 "nbformat_minor": 2
}
