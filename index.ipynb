{
 "cells": [
  {
   "attachments": {},
   "cell_type": "markdown",
   "metadata": {},
   "source": [
    "# Welcome to the OpenKIM tutorial at MACH 2023\n",
    "\n",
    "Examples will appear here before the tutorial"
   ]
  },
  {
   "attachments": {},
   "cell_type": "markdown",
   "metadata": {},
   "source": [
    "# Using OpenKIM models in your simulations\n",
    "\n",
    "## LAMMPS\n",
    "\n",
    "Run the cell below or view the file \"in-std.lammps\" to see a simple example of a standard LAMMPS script not involving OpenKIM"
   ]
  },
  {
   "cell_type": "code",
   "execution_count": null,
   "metadata": {},
   "outputs": [],
   "source": [
    "!cat in-std.lammps"
   ]
  },
  {
   "attachments": {},
   "cell_type": "markdown",
   "metadata": {},
   "source": [
    "Run the computation:"
   ]
  },
  {
   "cell_type": "code",
   "execution_count": null,
   "metadata": {},
   "outputs": [],
   "source": [
    "!lmp<in-std.lammps"
   ]
  },
  {
   "attachments": {},
   "cell_type": "markdown",
   "metadata": {},
   "source": [
    "Now let's look at the same simulation set up with OpenKIM"
   ]
  },
  {
   "cell_type": "code",
   "execution_count": null,
   "metadata": {},
   "outputs": [],
   "source": [
    "!cat in-kim.lammps"
   ]
  },
  {
   "attachments": {},
   "cell_type": "markdown",
   "metadata": {},
   "source": [
    "Before running, we need to install the model EAM_Dynamo_ErcolessiAdams_1994_Al__MO_123629422045_005 from OpenKIM if it has not been already. The following command will automatically download, build and install the model if the KIM API is installed:"
   ]
  },
  {
   "cell_type": "code",
   "execution_count": null,
   "metadata": {},
   "outputs": [],
   "source": [
    "!kim-api-collections-management install user EAM_Dynamo_ErcolessiAdams_1994_Al__MO_123629422045_005"
   ]
  },
  {
   "attachments": {},
   "cell_type": "markdown",
   "metadata": {},
   "source": [
    "Now we can run the simulation:"
   ]
  },
  {
   "cell_type": "code",
   "execution_count": null,
   "metadata": {},
   "outputs": [],
   "source": [
    "!lmp<in-kim.lammps"
   ]
  },
  {
   "cell_type": "code",
   "execution_count": null,
   "metadata": {},
   "outputs": [],
   "source": [
    "from hull_functions import get_2d_lower_hull\n",
    "import matplotlib.pyplot as plt\n",
    "\n",
    "species=[\"Al\",\"Ti\"]\n",
    "\n",
    "\n",
    "model=\"EAM_Dynamo_ZopeMishin_2003_TiAl__MO_117656786760_005\"\n",
    "\"\"\"\n",
    "model=\"EAM_Dynamo_FarkasJones_1996_NbTiAl__MO_042691367780_000\"\n",
    "model=\"MEAM_LAMMPS_AlmyrasSangiovanniSarakinos_2019_NAlTi__MO_958395190627_001\"\n",
    "model=\"MEAM_LAMMPS_KimKimJung_2016_AlTi__MO_618133763375_001\"\n",
    "model=\"MEAM_LAMMPS_KimKimJung_2017_NiAlTi__MO_478967255435_001\"\n",
    "model=\"MEAM_LAMMPS_SunRamachandranWick_2018_TiAl__MO_022920256108_001\"\n",
    "model=\"Tersoff_LAMMPS_PlummerRathodSrivastava_2021_TiAlC__MO_992900971352_000\"\n",
    "\"\"\"\n",
    "\n",
    "assert len(species)==2\n",
    "\n",
    "rd_form_engy_array,rd_prototype_labels,rd_lower_hull_vertices=get_2d_lower_hull(species)\n",
    "mo_form_engy_array,mo_prototype_labels,mo_lower_hull_vertices=get_2d_lower_hull(species,model)\n",
    "\n",
    "plt.rcParams['font.size']=16\n",
    "fig, ax = plt.subplots()\n",
    "ax.set_xlim(0.,1.)\n",
    "ax.set_ylim(ymin=1.2*min(min(rd_form_engy_array[:,1]),min(mo_form_engy_array[:,1])),ymax=0.)\n",
    "ax.set_xlabel(\"Mole fraction of %s\"%species[1])\n",
    "ax.set_ylabel(\"$H_f$ (eV/atom)\")\n",
    "ax.set_title(model+\"\\n\")\n",
    "\n",
    "ax.plot(mo_form_engy_array[mo_lower_hull_vertices,0],mo_form_engy_array[mo_lower_hull_vertices,1],\"k-o\")\n",
    "ax.plot(mo_form_engy_array[mo_lower_hull_vertices,0],mo_form_engy_array[mo_lower_hull_vertices,1],\"k-o\")\n",
    "ax.plot(rd_form_engy_array[rd_lower_hull_vertices,0],rd_form_engy_array[rd_lower_hull_vertices,1],\"r--o\")"
   ]
  },
  {
   "attachments": {},
   "cell_type": "markdown",
   "metadata": {},
   "source": []
  }
 ],
 "metadata": {
  "kernelspec": {
   "display_name": "base",
   "language": "python",
   "name": "python3"
  },
  "language_info": {
   "codemirror_mode": {
    "name": "ipython",
    "version": 3
   },
   "file_extension": ".py",
   "mimetype": "text/x-python",
   "name": "python",
   "nbconvert_exporter": "python",
   "pygments_lexer": "ipython3",
   "version": "3.11.2"
  },
  "orig_nbformat": 4
 },
 "nbformat": 4,
 "nbformat_minor": 2
}
